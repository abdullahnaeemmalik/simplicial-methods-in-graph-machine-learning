{
 "cells": [
  {
   "cell_type": "code",
   "execution_count": null,
   "id": "83c416c7",
   "metadata": {},
   "outputs": [],
   "source": [
    "import dgl\n",
    "import dgl.data\n",
    "from ConnectingEnvelopes import SimplicialFinder\n",
    "import json\n",
    "from tqdm.auto import tqdm\n",
    "\n",
    "#import Cora dataset\n",
    "dataset = dgl.data.CoraGraphDataset()\n",
    "cora_graph = dataset[0]"
   ]
  },
  {
   "cell_type": "code",
   "execution_count": null,
   "id": "9bae4367",
   "metadata": {},
   "outputs": [],
   "source": [
    "#create instance of simplicial finder for Cora dataset\n",
    "heavy_duty=SimplicialFinder(cora_graph)\n",
    "\n",
    "print(\"Finding simplices..\") \n",
    "for index in tqdm(range(6)):\n",
    "    heavy_duty.connectivity_update()\n",
    "\n",
    "print(\"Saving data to json file\")\n",
    "data_to_save = {\"zero_skel_dict\": {str(key): str(value) for key, value in heavy_duty.zero_skeleton_dict.items()}, \"standard_0_skeleton_dict\":{str(key): str(value) for key, value in heavy_duty.standard_0_skeleton_dict.items()}}\n",
    "\n",
    "with open(\"./cora_simplices.json\", \"w\") as file:\n",
    "    json.dump(data_to_save, file)"
   ]
  },
  {
   "cell_type": "code",
   "execution_count": null,
   "id": "3f8222e9",
   "metadata": {},
   "outputs": [],
   "source": [
    "#verify that simplices of dimension greater than 4 are non-existent\n",
    "heavy_duty.highest_dimension()"
   ]
  },
  {
   "cell_type": "code",
   "execution_count": null,
   "id": "915cc0a2",
   "metadata": {},
   "outputs": [],
   "source": [
    "#check if the file was saved properly and perform necessary conversions\n",
    "with open(\"./cora_simplices.json\", 'r') as file:\n",
    "    data = json.load(file)\n",
    "import ast\n",
    "cora_simplices = dict()\n",
    "cora_simplices = {ast.literal_eval(key): ast.literal_eval(value) for key, value in data['zero_skel_dict'].items()}\n",
    "\n",
    "#print(cora_simplices)"
   ]
  },
  {
   "cell_type": "code",
   "execution_count": null,
   "id": "4d9bb720",
   "metadata": {},
   "outputs": [],
   "source": [
    "#standardise dictionary of simplices for AdjFunctor\n",
    "cora_simplices_standardised = dict()\n",
    "\n",
    "dimensions = cora_simplices.keys()\n",
    "dim_std = []\n",
    "for _tuple in dimensions:\n",
    "    if _tuple[0] not in dim_std:\n",
    "        dim_std = dim_std + [_tuple[0]]\n",
    "        \n",
    "cora_simpl_std = dict()\n",
    "\n",
    "for key in dim_std:\n",
    "    cora_simpl_std.update({key:[]})\n",
    "    \n",
    "for key, value in cora_simplices.items():\n",
    "    cora_simpl_std[key[0]] = cora_simpl_std[key[0]] + [value]\n",
    "#print(cora_simpl_std)"
   ]
  },
  {
   "cell_type": "code",
   "execution_count": null,
   "id": "98924809",
   "metadata": {},
   "outputs": [],
   "source": [
    "from AdjFunctor import AdjFunctor\n",
    "\n",
    "#create adj graph\n",
    "cora_adj = AdjFunctor(cora_simpl_std)\n",
    "#cora_adj.fill_edges()"
   ]
  },
  {
   "cell_type": "code",
   "execution_count": null,
   "id": "454c9d0b",
   "metadata": {},
   "outputs": [],
   "source": [
    "#save graph\n",
    "from dgl.data.utils import save_graphs\n",
    "name = 'cora_adj_no_feats'\n",
    "save_graphs(name, cora_adj.adj_graph)"
   ]
  },
  {
   "cell_type": "code",
   "execution_count": null,
   "id": "c61227d2",
   "metadata": {},
   "outputs": [],
   "source": [
    "#load this saved graph, if necessary\n",
    "from dgl.data.utils import load_graphs\n",
    "name = 'cora_adj_no_feats'\n",
    "cora_adj_graph = load_graphs(name)[0][0]"
   ]
  },
  {
   "cell_type": "code",
   "execution_count": null,
   "id": "037603ef",
   "metadata": {},
   "outputs": [],
   "source": [
    "#add feats to adj_graph without leaks\n",
    "#warning! Use either leaky or non-leaky! \n",
    "from HigherFeats import CreateFeatures\n",
    "\n",
    "path = \"./cora_adj_graph_feats_n_masks_nonleaky.json\"\n",
    "feats_adj_graph = CreateFeatures(adj_graph=cora_adj_graph, \n",
    "                                  mapping=cora_adj.adj_graph_node_dict, original_graph=cora_graph, \n",
    "                                  tosave=path, data_leak = False)"
   ]
  },
  {
   "cell_type": "code",
   "execution_count": null,
   "id": "a5e63765",
   "metadata": {},
   "outputs": [],
   "source": [
    "#verify if adj graph is saved\n",
    "from dgl.data.utils import load_graphs\n",
    "\n",
    "path = \"./cora_adj_graph_feats_n_masks_nonleaky.json\"\n",
    "cora_adj_noleaks = load_graphs(path)[0][0]\n",
    "#print(cora_adj_noleaks)"
   ]
  },
  {
   "cell_type": "code",
   "execution_count": null,
   "id": "f0880aee",
   "metadata": {},
   "outputs": [],
   "source": [
    "#import other libraries for NN\n",
    "import torch\n",
    "import os\n",
    "from torch.sparse import *\n",
    "os.environ['DGLBACKEND'] = 'pytorch'\n",
    "from pathlib import Path\n",
    "from GSN import CinchNETConv\n",
    "import torch.nn as nn\n",
    "import torch.nn.functional as F\n",
    "from utils import plot_losses, train, train_step, get_experiment_stats\n",
    "from utils import test, characterize_performance, norm_plot\n",
    "from scipy import stats"
   ]
  },
  {
   "cell_type": "code",
   "execution_count": null,
   "id": "3db8cc5f",
   "metadata": {},
   "outputs": [],
   "source": [
    "#define the model\n",
    "class CinchNET(nn.Module):\n",
    "    def __init__(self, graph, input_layer:int, hidden_layers:int, output_layer:int, num_layers:int, dropout, max_dim):\n",
    "        self.input_layer   = input_layer\n",
    "        self.hidden_layers = hidden_layers\n",
    "        self.output_layer  = output_layer\n",
    "        self.num_layers    = num_layers\n",
    "        self.dropout       = dropout\n",
    "        self.graph         = graph\n",
    "        self.maximum_dim   = max_dim\n",
    "        super(CinchNET, self).__init__()\n",
    "        self.convs         = nn.ModuleList()\n",
    "        self.bns           = torch.nn.ModuleList()\n",
    "        self.bns.append(torch.nn.BatchNorm1d(hidden_layers))\n",
    "        self.convs.append(CinchNETConv(in_feats=input_layer, out_feats=hidden_layers, maximum_dim =max_dim))\n",
    "        \n",
    "        for _ in range(num_layers - 2):\n",
    "            self.convs.append(CinchNETConv(in_feats=hidden_layers, out_feats=hidden_layers,maximum_dim =max_dim))\n",
    "            self.bns.append(torch.nn.BatchNorm1d(hidden_layers))\n",
    "        self.convs.append(CinchNETConv(in_feats=hidden_layers, out_feats=output_layer,maximum_dim =max_dim))\n",
    "        \n",
    "    def forward(self, graph, input_features):\n",
    "        for conv in self.convs[:-1]:\n",
    "            input_features = conv(graph, input_features)\n",
    "            input_features = F.relu(input_features)\n",
    "            input_features = F.dropout(input_features, p=self.dropout, training=self.training)\n",
    "        input_features = self.convs[-1](graph, input_features)\n",
    "        #change non-linearity here\n",
    "        return input_features.log_softmax(dim=-1)\n",
    "    \n",
    "    def reset_parameters(self):\n",
    "        for conv in self.convs:\n",
    "            conv.reset_parameters()\n",
    "        for bn in self.bns:\n",
    "            bn.reset_parameters()"
   ]
  },
  {
   "cell_type": "code",
   "execution_count": null,
   "id": "d3af590a",
   "metadata": {},
   "outputs": [],
   "source": [
    "num_class = dataset.num_classes\n",
    "device = 'cuda' if torch.cuda.is_available() else 'cpu'\n",
    "device = torch.device(device)\n",
    "\n",
    "#hidden layers chosen to be twice the size of input\n",
    "model_kwargs = dict(graph=cora_adj_noleaks, input_layer=7165, \n",
    "                     hidden_layers=7165, output_layer=num_class, \n",
    "                 num_layers=2, dropout=0.5,max_dim=4)\n",
    "model = CinchNET(**model_kwargs).to(device)\n",
    "\n",
    "# Where to save the best model\n",
    "model_path = 'models'\n",
    "Path(model_path).mkdir(parents=True, exist_ok=True)\n",
    "cincnet_path = f\"{model_path}/CinchNETe450l2noleaks.model\"\n",
    "\n",
    "train_args = dict(\n",
    "    graph=cora_adj_noleaks, epochs=200,  device=device, \n",
    "    save_path=cincnet_path, lr=5e-3, es_criteria=50, labels = cora_adj_noleaks.ndata['label']\n",
    ")\n",
    "\n",
    "train_losses, val_losses = train(model=model, verbose=True, **train_args)\n",
    "plot_losses(train_losses, val_losses, log=True, modelname='CinchNETe450l2noleaks')\n",
    "\n",
    "_ = characterize_performance(model, cora_adj_noleaks, cincnet_path, verbose=True)"
   ]
  },
  {
   "cell_type": "code",
   "execution_count": null,
   "id": "b159c557",
   "metadata": {},
   "outputs": [],
   "source": [
    "df_gcn = get_experiment_stats(\n",
    "    model_cls=CinchNET, model_args=model_kwargs,\n",
    "    train_args=train_args, n_experiments=10\n",
    ")\n",
    "\n",
    "#comparison with Topology Adaptive Graph Convolutional Network\n",
    "test_acc_prev = 82.5\n",
    "test_acc_var_prev = 0.7\n",
    "print(\"Creating norm plots for comparison\")\n",
    "norm_plot(\n",
    "    [\n",
    "        (test_acc_prev, test_acc_var_prev, 'TAGCN'), \n",
    "        (df_gcn.loc['mean', 'test_acc'], df_gcn.loc['std', 'test_acc'], 'CinchNET'),\n",
    "    ],\n",
    "    'Test Performance'\n",
    ")\n",
    "\n",
    "# Conduct a Welch's t-test to determine if the means are different with statistical significance \n",
    "_, p = stats.ttest_ind_from_stats(\n",
    "    test_acc_prev, test_acc_var_prev, 10,\n",
    "    df_gcn.loc['mean', 'test_acc'], df_gcn.loc['std', 'test_acc'], 10,\n",
    "    equal_var=False,\n",
    ")\n",
    "print(f\"Mean Test Accuracy Improvement: {(df_gcn.loc['mean', 'test_acc'] - test_acc_lb):.4f}\")\n",
    "print(f\"Probability that these are from the same performance distribution = {p*100:.0f}%\")"
   ]
  },
  {
   "cell_type": "code",
   "execution_count": null,
   "id": "351059fb",
   "metadata": {},
   "outputs": [],
   "source": []
  }
 ],
 "metadata": {
  "kernelspec": {
   "display_name": "Python 3",
   "language": "python",
   "name": "python3"
  },
  "language_info": {
   "codemirror_mode": {
    "name": "ipython",
    "version": 3
   },
   "file_extension": ".py",
   "mimetype": "text/x-python",
   "name": "python",
   "nbconvert_exporter": "python",
   "pygments_lexer": "ipython3",
   "version": "3.6.8"
  }
 },
 "nbformat": 4,
 "nbformat_minor": 5
}
